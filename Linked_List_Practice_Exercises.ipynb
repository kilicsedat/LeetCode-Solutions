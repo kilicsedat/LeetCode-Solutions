{
 "cells": [
  {
   "cell_type": "markdown",
   "id": "778dd46f",
   "metadata": {},
   "source": [
    "# Linked List Practice Exercises\n",
    "Welcome to your hands-on practice notebook for mastering Linked Lists.\n",
    "\n",
    "This notebook includes progressive exercises grouped by topic, starting from basic traversal and moving into insertions, deletions, and reversals.\n",
    "\n",
    "**Topics Covered:**\n",
    "- Print all elements in a linked list\n",
    "- Count number of nodes\n",
    "- Insert at head\n",
    "- Insert at tail\n",
    "- Delete a node with a given value\n",
    "- Reverse a linked list\n",
    "- BONUS: Detect cycles, find middle node, merge two sorted lists, and more!\n",
    "\n",
    "Each section contains multiple exercises and mini-challenges to help you master each concept. 🚀"
   ]
  },
  {
   "cell_type": "code",
   "execution_count": null,
   "id": "2592bf7a",
   "metadata": {},
   "outputs": [],
   "source": [
    "# Basic ListNode class to use throughout the notebook\n",
    "class ListNode:\n",
    "    def __init__(self, val=0, next=None):\n",
    "        self.val = val\n",
    "        self.next = next\n",
    "\n",
    "def create_linked_list(arr):\n",
    "    head = ListNode(arr[0])\n",
    "    current = head\n",
    "    for val in arr[1:]:\n",
    "        current.next = ListNode(val)\n",
    "        current = current.next\n",
    "    return head\n",
    "\n",
    "def print_linked_list(head):\n",
    "    while head:\n",
    "        print(head.val, end=' -> ')\n",
    "        head = head.next\n",
    "    print('None')"
   ]
  },
  {
   "cell_type": "markdown",
   "id": "5320e60f",
   "metadata": {},
   "source": [
    "## 1. Print All Elements in a Linked List"
   ]
  },
  {
   "cell_type": "code",
   "execution_count": null,
   "id": "c947a972",
   "metadata": {},
   "outputs": [],
   "source": [
    "# Exercise 1.1: Create a linked list and print all elements\n",
    "head = create_linked_list([1, 2, 3, 4, 5])\n",
    "print_linked_list(head)"
   ]
  },
  {
   "cell_type": "code",
   "execution_count": null,
   "id": "58e9e38a",
   "metadata": {},
   "outputs": [],
   "source": [
    "# Exercise 1.2: Create a linked list and print all elements\n",
    "head = create_linked_list([1, 2, 3, 4, 5])\n",
    "print_linked_list(head)"
   ]
  },
  {
   "cell_type": "code",
   "execution_count": null,
   "id": "6730d808",
   "metadata": {},
   "outputs": [],
   "source": [
    "# Exercise 1.3: Create a linked list and print all elements\n",
    "head = create_linked_list([1, 2, 3, 4, 5])\n",
    "print_linked_list(head)"
   ]
  },
  {
   "cell_type": "code",
   "execution_count": null,
   "id": "f78412f8",
   "metadata": {},
   "outputs": [],
   "source": [
    "# Exercise 1.4: Create a linked list and print all elements\n",
    "head = create_linked_list([1, 2, 3, 4, 5])\n",
    "print_linked_list(head)"
   ]
  },
  {
   "cell_type": "code",
   "execution_count": null,
   "id": "72d09cf6",
   "metadata": {},
   "outputs": [],
   "source": [
    "# Exercise 1.5: Create a linked list and print all elements\n",
    "head = create_linked_list([1, 2, 3, 4, 5])\n",
    "print_linked_list(head)"
   ]
  },
  {
   "cell_type": "markdown",
   "id": "ab00ce9c",
   "metadata": {},
   "source": [
    "## 2. Count Number of Nodes"
   ]
  },
  {
   "cell_type": "code",
   "execution_count": null,
   "id": "93e98882",
   "metadata": {},
   "outputs": [],
   "source": [
    "def count_nodes(head):\n",
    "    count = 0\n",
    "    while head:\n",
    "        count += 1\n",
    "        head = head.next\n",
    "    return count"
   ]
  },
  {
   "cell_type": "code",
   "execution_count": null,
   "id": "78252023",
   "metadata": {},
   "outputs": [],
   "source": [
    "# Exercise 2.1: Count the nodes in the linked list\n",
    "head = create_linked_list([10, 20, 30, 40])\n",
    "print('Number of nodes:', count_nodes(head))"
   ]
  },
  {
   "cell_type": "code",
   "execution_count": null,
   "id": "22e6f91d",
   "metadata": {},
   "outputs": [],
   "source": [
    "# Exercise 2.2: Count the nodes in the linked list\n",
    "head = create_linked_list([10, 20, 30, 40])\n",
    "print('Number of nodes:', count_nodes(head))"
   ]
  },
  {
   "cell_type": "code",
   "execution_count": null,
   "id": "803c82f9",
   "metadata": {},
   "outputs": [],
   "source": [
    "# Exercise 2.3: Count the nodes in the linked list\n",
    "head = create_linked_list([10, 20, 30, 40])\n",
    "print('Number of nodes:', count_nodes(head))"
   ]
  },
  {
   "cell_type": "code",
   "execution_count": null,
   "id": "9154370b",
   "metadata": {},
   "outputs": [],
   "source": [
    "# Exercise 2.4: Count the nodes in the linked list\n",
    "head = create_linked_list([10, 20, 30, 40])\n",
    "print('Number of nodes:', count_nodes(head))"
   ]
  },
  {
   "cell_type": "code",
   "execution_count": null,
   "id": "e9cbe63e",
   "metadata": {},
   "outputs": [],
   "source": [
    "# Exercise 2.5: Count the nodes in the linked list\n",
    "head = create_linked_list([10, 20, 30, 40])\n",
    "print('Number of nodes:', count_nodes(head))"
   ]
  },
  {
   "cell_type": "markdown",
   "id": "8722c63b",
   "metadata": {},
   "source": [
    "## 3. Insert at Head"
   ]
  },
  {
   "cell_type": "code",
   "execution_count": null,
   "id": "2755c23e",
   "metadata": {},
   "outputs": [],
   "source": [
    "def insert_at_head(head, val):\n",
    "    return ListNode(val, head)"
   ]
  },
  {
   "cell_type": "code",
   "execution_count": null,
   "id": "6cecd493",
   "metadata": {},
   "outputs": [],
   "source": [
    "# Exercise 3.1: Insert a value at the head of the linked list\n",
    "head = create_linked_list([2, 3, 4])\n",
    "head = insert_at_head(head, 1)\n",
    "print_linked_list(head)"
   ]
  },
  {
   "cell_type": "code",
   "execution_count": null,
   "id": "b637bb25",
   "metadata": {},
   "outputs": [],
   "source": [
    "# Exercise 3.2: Insert a value at the head of the linked list\n",
    "head = create_linked_list([2, 3, 4])\n",
    "head = insert_at_head(head, 1)\n",
    "print_linked_list(head)"
   ]
  },
  {
   "cell_type": "code",
   "execution_count": null,
   "id": "33b769ab",
   "metadata": {},
   "outputs": [],
   "source": [
    "# Exercise 3.3: Insert a value at the head of the linked list\n",
    "head = create_linked_list([2, 3, 4])\n",
    "head = insert_at_head(head, 1)\n",
    "print_linked_list(head)"
   ]
  },
  {
   "cell_type": "code",
   "execution_count": null,
   "id": "05208938",
   "metadata": {},
   "outputs": [],
   "source": [
    "# Exercise 3.4: Insert a value at the head of the linked list\n",
    "head = create_linked_list([2, 3, 4])\n",
    "head = insert_at_head(head, 1)\n",
    "print_linked_list(head)"
   ]
  },
  {
   "cell_type": "code",
   "execution_count": null,
   "id": "3b7114d5",
   "metadata": {},
   "outputs": [],
   "source": [
    "# Exercise 3.5: Insert a value at the head of the linked list\n",
    "head = create_linked_list([2, 3, 4])\n",
    "head = insert_at_head(head, 1)\n",
    "print_linked_list(head)"
   ]
  },
  {
   "cell_type": "markdown",
   "id": "c389e6b9",
   "metadata": {},
   "source": [
    "## 4. Insert at Tail"
   ]
  },
  {
   "cell_type": "code",
   "execution_count": null,
   "id": "8321af9d",
   "metadata": {},
   "outputs": [],
   "source": [
    "def insert_at_tail(head, val):\n",
    "    if not head:\n",
    "        return ListNode(val)\n",
    "    curr = head\n",
    "    while curr.next:\n",
    "        curr = curr.next\n",
    "    curr.next = ListNode(val)\n",
    "    return head"
   ]
  },
  {
   "cell_type": "code",
   "execution_count": null,
   "id": "5d75174c",
   "metadata": {},
   "outputs": [],
   "source": [
    "# Exercise 4.1: Insert a value at the tail of the linked list\n",
    "head = create_linked_list([1, 2, 3])\n",
    "head = insert_at_tail(head, 4)\n",
    "print_linked_list(head)"
   ]
  },
  {
   "cell_type": "code",
   "execution_count": null,
   "id": "0105aacd",
   "metadata": {},
   "outputs": [],
   "source": [
    "# Exercise 4.2: Insert a value at the tail of the linked list\n",
    "head = create_linked_list([1, 2, 3])\n",
    "head = insert_at_tail(head, 4)\n",
    "print_linked_list(head)"
   ]
  },
  {
   "cell_type": "code",
   "execution_count": null,
   "id": "0b7728aa",
   "metadata": {},
   "outputs": [],
   "source": [
    "# Exercise 4.3: Insert a value at the tail of the linked list\n",
    "head = create_linked_list([1, 2, 3])\n",
    "head = insert_at_tail(head, 4)\n",
    "print_linked_list(head)"
   ]
  },
  {
   "cell_type": "code",
   "execution_count": null,
   "id": "e629d2cc",
   "metadata": {},
   "outputs": [],
   "source": [
    "# Exercise 4.4: Insert a value at the tail of the linked list\n",
    "head = create_linked_list([1, 2, 3])\n",
    "head = insert_at_tail(head, 4)\n",
    "print_linked_list(head)"
   ]
  },
  {
   "cell_type": "code",
   "execution_count": null,
   "id": "d82e3dc0",
   "metadata": {},
   "outputs": [],
   "source": [
    "# Exercise 4.5: Insert a value at the tail of the linked list\n",
    "head = create_linked_list([1, 2, 3])\n",
    "head = insert_at_tail(head, 4)\n",
    "print_linked_list(head)"
   ]
  },
  {
   "cell_type": "markdown",
   "id": "f919e0be",
   "metadata": {},
   "source": [
    "## 5. Delete a Node with a Given Value"
   ]
  },
  {
   "cell_type": "code",
   "execution_count": null,
   "id": "ee1ae639",
   "metadata": {},
   "outputs": [],
   "source": [
    "def delete_node(head, val):\n",
    "    if not head:\n",
    "        return None\n",
    "    if head.val == val:\n",
    "        return head.next\n",
    "    prev, curr = None, head\n",
    "    while curr and curr.val != val:\n",
    "        prev = curr\n",
    "        curr = curr.next\n",
    "    if curr:\n",
    "        prev.next = curr.next\n",
    "    return head"
   ]
  },
  {
   "cell_type": "code",
   "execution_count": null,
   "id": "167ea9b6",
   "metadata": {},
   "outputs": [],
   "source": [
    "# Exercise 5.1: Delete a node by value\n",
    "head = create_linked_list([1, 2, 3, 4, 5])\n",
    "head = delete_node(head, 3)\n",
    "print_linked_list(head)"
   ]
  },
  {
   "cell_type": "code",
   "execution_count": null,
   "id": "4f44101b",
   "metadata": {},
   "outputs": [],
   "source": [
    "# Exercise 5.2: Delete a node by value\n",
    "head = create_linked_list([1, 2, 3, 4, 5])\n",
    "head = delete_node(head, 3)\n",
    "print_linked_list(head)"
   ]
  },
  {
   "cell_type": "code",
   "execution_count": null,
   "id": "7cdd68e6",
   "metadata": {},
   "outputs": [],
   "source": [
    "# Exercise 5.3: Delete a node by value\n",
    "head = create_linked_list([1, 2, 3, 4, 5])\n",
    "head = delete_node(head, 3)\n",
    "print_linked_list(head)"
   ]
  },
  {
   "cell_type": "code",
   "execution_count": null,
   "id": "ba57e405",
   "metadata": {},
   "outputs": [],
   "source": [
    "# Exercise 5.4: Delete a node by value\n",
    "head = create_linked_list([1, 2, 3, 4, 5])\n",
    "head = delete_node(head, 3)\n",
    "print_linked_list(head)"
   ]
  },
  {
   "cell_type": "code",
   "execution_count": null,
   "id": "f6aeedd8",
   "metadata": {},
   "outputs": [],
   "source": [
    "# Exercise 5.5: Delete a node by value\n",
    "head = create_linked_list([1, 2, 3, 4, 5])\n",
    "head = delete_node(head, 3)\n",
    "print_linked_list(head)"
   ]
  },
  {
   "cell_type": "markdown",
   "id": "7ee92f4a",
   "metadata": {},
   "source": [
    "## 6. Reverse a Linked List"
   ]
  },
  {
   "cell_type": "code",
   "execution_count": null,
   "id": "60a608ac",
   "metadata": {},
   "outputs": [],
   "source": [
    "def reverse_list(head):\n",
    "    prev = None\n",
    "    while head:\n",
    "        next_node = head.next\n",
    "        head.next = prev\n",
    "        prev = head\n",
    "        head = next_node\n",
    "    return prev"
   ]
  },
  {
   "cell_type": "code",
   "execution_count": null,
   "id": "94697c82",
   "metadata": {},
   "outputs": [],
   "source": [
    "# Exercise 6.1: Reverse the linked list\n",
    "head = create_linked_list([1, 2, 3, 4, 5])\n",
    "head = reverse_list(head)\n",
    "print_linked_list(head)"
   ]
  },
  {
   "cell_type": "code",
   "execution_count": null,
   "id": "764c0725",
   "metadata": {},
   "outputs": [],
   "source": [
    "# Exercise 6.2: Reverse the linked list\n",
    "head = create_linked_list([1, 2, 3, 4, 5])\n",
    "head = reverse_list(head)\n",
    "print_linked_list(head)"
   ]
  },
  {
   "cell_type": "code",
   "execution_count": null,
   "id": "6462fa7d",
   "metadata": {},
   "outputs": [],
   "source": [
    "# Exercise 6.3: Reverse the linked list\n",
    "head = create_linked_list([1, 2, 3, 4, 5])\n",
    "head = reverse_list(head)\n",
    "print_linked_list(head)"
   ]
  },
  {
   "cell_type": "code",
   "execution_count": null,
   "id": "42962d23",
   "metadata": {},
   "outputs": [],
   "source": [
    "# Exercise 6.4: Reverse the linked list\n",
    "head = create_linked_list([1, 2, 3, 4, 5])\n",
    "head = reverse_list(head)\n",
    "print_linked_list(head)"
   ]
  },
  {
   "cell_type": "code",
   "execution_count": null,
   "id": "8fff8722",
   "metadata": {},
   "outputs": [],
   "source": [
    "# Exercise 6.5: Reverse the linked list\n",
    "head = create_linked_list([1, 2, 3, 4, 5])\n",
    "head = reverse_list(head)\n",
    "print_linked_list(head)"
   ]
  },
  {
   "cell_type": "markdown",
   "id": "f6748006",
   "metadata": {},
   "source": [
    "## 7. Bonus: Advanced Linked List Practice"
   ]
  },
  {
   "cell_type": "markdown",
   "id": "9603ad54",
   "metadata": {},
   "source": [
    "- Detect a cycle in a linked list (Floyd’s algorithm)\n",
    "- Find the middle node\n",
    "- Merge two sorted linked lists\n",
    "- Remove nth node from end\n",
    "- Palindrome linked list check"
   ]
  }
 ],
 "metadata": {},
 "nbformat": 4,
 "nbformat_minor": 5
}